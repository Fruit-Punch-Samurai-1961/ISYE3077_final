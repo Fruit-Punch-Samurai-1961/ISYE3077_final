{
 "cells": [
  {
   "cell_type": "markdown",
   "metadata": {},
   "source": [
    "Import `Seaborn, Matplotlib, pandas, and sklearn`"
   ]
  },
  {
   "cell_type": "code",
   "execution_count": 1,
   "metadata": {},
   "outputs": [],
   "source": [
    "import seaborn as sns; sns.set()\n",
    "from sklearn.linear_model import LinearRegression\n",
    "import matplotlib.pyplot as plt\n",
    "import pandas as pd\n",
    "import numpy as np"
   ]
  },
  {
   "cell_type": "markdown",
   "metadata": {},
   "source": [
    "Load the csv file into the dataframe and check the first five rows"
   ]
  },
  {
   "cell_type": "code",
   "execution_count": 2,
   "metadata": {},
   "outputs": [
    {
     "data": {
      "text/html": [
       "<div>\n",
       "<style scoped>\n",
       "    .dataframe tbody tr th:only-of-type {\n",
       "        vertical-align: middle;\n",
       "    }\n",
       "\n",
       "    .dataframe tbody tr th {\n",
       "        vertical-align: top;\n",
       "    }\n",
       "\n",
       "    .dataframe thead th {\n",
       "        text-align: right;\n",
       "    }\n",
       "</style>\n",
       "<table border=\"1\" class=\"dataframe\">\n",
       "  <thead>\n",
       "    <tr style=\"text-align: right;\">\n",
       "      <th></th>\n",
       "      <th>county_name</th>\n",
       "      <th>cases</th>\n",
       "      <th>population</th>\n",
       "      <th>case rate</th>\n",
       "      <th>14 day case rate</th>\n",
       "      <th>land area</th>\n",
       "      <th>Pop. Density</th>\n",
       "    </tr>\n",
       "  </thead>\n",
       "  <tbody>\n",
       "    <tr>\n",
       "      <th>0</th>\n",
       "      <td>Appling</td>\n",
       "      <td>1230</td>\n",
       "      <td>18561</td>\n",
       "      <td>6626.80</td>\n",
       "      <td>177.79</td>\n",
       "      <td>512.557983</td>\n",
       "      <td>36.212488</td>\n",
       "    </tr>\n",
       "    <tr>\n",
       "      <th>1</th>\n",
       "      <td>Atkinson</td>\n",
       "      <td>521</td>\n",
       "      <td>8330</td>\n",
       "      <td>6254.50</td>\n",
       "      <td>276.11</td>\n",
       "      <td>344.592011</td>\n",
       "      <td>24.173515</td>\n",
       "    </tr>\n",
       "    <tr>\n",
       "      <th>2</th>\n",
       "      <td>Bacon</td>\n",
       "      <td>663</td>\n",
       "      <td>11404</td>\n",
       "      <td>5813.75</td>\n",
       "      <td>105.23</td>\n",
       "      <td>285.950989</td>\n",
       "      <td>22.249190</td>\n",
       "    </tr>\n",
       "    <tr>\n",
       "      <th>3</th>\n",
       "      <td>Baker</td>\n",
       "      <td>105</td>\n",
       "      <td>3116</td>\n",
       "      <td>3369.70</td>\n",
       "      <td>64.18</td>\n",
       "      <td>349.074005</td>\n",
       "      <td>8.926474</td>\n",
       "    </tr>\n",
       "    <tr>\n",
       "      <th>4</th>\n",
       "      <td>Baldwin</td>\n",
       "      <td>2496</td>\n",
       "      <td>44428</td>\n",
       "      <td>5618.08</td>\n",
       "      <td>202.57</td>\n",
       "      <td>267.404999</td>\n",
       "      <td>166.144987</td>\n",
       "    </tr>\n",
       "  </tbody>\n",
       "</table>\n",
       "</div>"
      ],
      "text/plain": [
       "  county_name  cases  population  case rate  14 day case rate   land area  \\\n",
       "0     Appling   1230       18561    6626.80            177.79  512.557983   \n",
       "1    Atkinson    521        8330    6254.50            276.11  344.592011   \n",
       "2       Bacon    663       11404    5813.75            105.23  285.950989   \n",
       "3       Baker    105        3116    3369.70             64.18  349.074005   \n",
       "4     Baldwin   2496       44428    5618.08            202.57  267.404999   \n",
       "\n",
       "   Pop. Density  \n",
       "0     36.212488  \n",
       "1     24.173515  \n",
       "2     22.249190  \n",
       "3      8.926474  \n",
       "4    166.144987  "
      ]
     },
     "execution_count": 2,
     "metadata": {},
     "output_type": "execute_result"
    }
   ],
   "source": [
    "df = pd.read_csv('Population-Cases.csv')\n",
    "df.head()"
   ]
  },
  {
   "cell_type": "markdown",
   "metadata": {},
   "source": [
    "Get a Count of the number of rows in the table"
   ]
  },
  {
   "cell_type": "code",
   "execution_count": 3,
   "metadata": {},
   "outputs": [
    {
     "data": {
      "text/plain": [
       "(159, 7)"
      ]
     },
     "execution_count": 3,
     "metadata": {},
     "output_type": "execute_result"
    }
   ],
   "source": [
    "df.shape"
   ]
  },
  {
   "cell_type": "markdown",
   "metadata": {},
   "source": [
    "Get a Statistical Summary of our data"
   ]
  },
  {
   "cell_type": "code",
   "execution_count": 4,
   "metadata": {},
   "outputs": [
    {
     "data": {
      "text/html": [
       "<div>\n",
       "<style scoped>\n",
       "    .dataframe tbody tr th:only-of-type {\n",
       "        vertical-align: middle;\n",
       "    }\n",
       "\n",
       "    .dataframe tbody tr th {\n",
       "        vertical-align: top;\n",
       "    }\n",
       "\n",
       "    .dataframe thead th {\n",
       "        text-align: right;\n",
       "    }\n",
       "</style>\n",
       "<table border=\"1\" class=\"dataframe\">\n",
       "  <thead>\n",
       "    <tr style=\"text-align: right;\">\n",
       "      <th></th>\n",
       "      <th>cases</th>\n",
       "      <th>population</th>\n",
       "      <th>case rate</th>\n",
       "      <th>14 day case rate</th>\n",
       "      <th>land area</th>\n",
       "      <th>Pop. Density</th>\n",
       "    </tr>\n",
       "  </thead>\n",
       "  <tbody>\n",
       "    <tr>\n",
       "      <th>count</th>\n",
       "      <td>159.000000</td>\n",
       "      <td>1.590000e+02</td>\n",
       "      <td>159.000000</td>\n",
       "      <td>159.000000</td>\n",
       "      <td>159.000000</td>\n",
       "      <td>159.000000</td>\n",
       "    </tr>\n",
       "    <tr>\n",
       "      <th>mean</th>\n",
       "      <td>2488.553459</td>\n",
       "      <td>6.813504e+04</td>\n",
       "      <td>4031.104528</td>\n",
       "      <td>262.941132</td>\n",
       "      <td>373.814049</td>\n",
       "      <td>200.205414</td>\n",
       "    </tr>\n",
       "    <tr>\n",
       "      <th>std</th>\n",
       "      <td>5172.879194</td>\n",
       "      <td>1.500324e+05</td>\n",
       "      <td>1688.373162</td>\n",
       "      <td>162.432543</td>\n",
       "      <td>158.499128</td>\n",
       "      <td>385.643998</td>\n",
       "    </tr>\n",
       "    <tr>\n",
       "      <th>min</th>\n",
       "      <td>36.000000</td>\n",
       "      <td>1.632000e+03</td>\n",
       "      <td>1551.590000</td>\n",
       "      <td>14.810000</td>\n",
       "      <td>121.027000</td>\n",
       "      <td>8.075465</td>\n",
       "    </tr>\n",
       "    <tr>\n",
       "      <th>25%</th>\n",
       "      <td>480.500000</td>\n",
       "      <td>1.171900e+04</td>\n",
       "      <td>3142.255000</td>\n",
       "      <td>150.425000</td>\n",
       "      <td>256.752502</td>\n",
       "      <td>31.864047</td>\n",
       "    </tr>\n",
       "    <tr>\n",
       "      <th>50%</th>\n",
       "      <td>915.000000</td>\n",
       "      <td>2.266400e+04</td>\n",
       "      <td>3698.330000</td>\n",
       "      <td>238.600000</td>\n",
       "      <td>346.657013</td>\n",
       "      <td>68.882796</td>\n",
       "    </tr>\n",
       "    <tr>\n",
       "      <th>75%</th>\n",
       "      <td>2219.000000</td>\n",
       "      <td>5.598650e+04</td>\n",
       "      <td>4779.345000</td>\n",
       "      <td>333.325000</td>\n",
       "      <td>459.025497</td>\n",
       "      <td>153.814378</td>\n",
       "    </tr>\n",
       "    <tr>\n",
       "      <th>max</th>\n",
       "      <td>36793.000000</td>\n",
       "      <td>1.099181e+06</td>\n",
       "      <td>18150.530000</td>\n",
       "      <td>1058.100000</td>\n",
       "      <td>908.424988</td>\n",
       "      <td>2295.151888</td>\n",
       "    </tr>\n",
       "  </tbody>\n",
       "</table>\n",
       "</div>"
      ],
      "text/plain": [
       "              cases    population     case rate  14 day case rate   land area  \\\n",
       "count    159.000000  1.590000e+02    159.000000        159.000000  159.000000   \n",
       "mean    2488.553459  6.813504e+04   4031.104528        262.941132  373.814049   \n",
       "std     5172.879194  1.500324e+05   1688.373162        162.432543  158.499128   \n",
       "min       36.000000  1.632000e+03   1551.590000         14.810000  121.027000   \n",
       "25%      480.500000  1.171900e+04   3142.255000        150.425000  256.752502   \n",
       "50%      915.000000  2.266400e+04   3698.330000        238.600000  346.657013   \n",
       "75%     2219.000000  5.598650e+04   4779.345000        333.325000  459.025497   \n",
       "max    36793.000000  1.099181e+06  18150.530000       1058.100000  908.424988   \n",
       "\n",
       "       Pop. Density  \n",
       "count    159.000000  \n",
       "mean     200.205414  \n",
       "std      385.643998  \n",
       "min        8.075465  \n",
       "25%       31.864047  \n",
       "50%       68.882796  \n",
       "75%      153.814378  \n",
       "max     2295.151888  "
      ]
     },
     "execution_count": 4,
     "metadata": {},
     "output_type": "execute_result"
    }
   ],
   "source": [
    "df.describe()"
   ]
  },
  {
   "cell_type": "markdown",
   "metadata": {},
   "source": [
    "Check for Null"
   ]
  },
  {
   "cell_type": "code",
   "execution_count": 5,
   "metadata": {},
   "outputs": [
    {
     "data": {
      "text/plain": [
       "False"
      ]
     },
     "execution_count": 5,
     "metadata": {},
     "output_type": "execute_result"
    }
   ],
   "source": [
    "df.isnull().values.any()"
   ]
  },
  {
   "cell_type": "markdown",
   "metadata": {},
   "source": [
    "Since we're only checking **Pop.Density** against **Cases**, we only need those two, so we can drop the rest"
   ]
  },
  {
   "cell_type": "code",
   "execution_count": 6,
   "metadata": {},
   "outputs": [],
   "source": [
    "df = df[[\"cases\", \"Pop. Density\"]]\n"
   ]
  },
  {
   "cell_type": "markdown",
   "metadata": {},
   "source": [
    "Get a Statistical Summary of our remaining data"
   ]
  },
  {
   "cell_type": "code",
   "execution_count": 7,
   "metadata": {},
   "outputs": [
    {
     "data": {
      "text/html": [
       "<div>\n",
       "<style scoped>\n",
       "    .dataframe tbody tr th:only-of-type {\n",
       "        vertical-align: middle;\n",
       "    }\n",
       "\n",
       "    .dataframe tbody tr th {\n",
       "        vertical-align: top;\n",
       "    }\n",
       "\n",
       "    .dataframe thead th {\n",
       "        text-align: right;\n",
       "    }\n",
       "</style>\n",
       "<table border=\"1\" class=\"dataframe\">\n",
       "  <thead>\n",
       "    <tr style=\"text-align: right;\">\n",
       "      <th></th>\n",
       "      <th>cases</th>\n",
       "      <th>Pop. Density</th>\n",
       "    </tr>\n",
       "  </thead>\n",
       "  <tbody>\n",
       "    <tr>\n",
       "      <th>count</th>\n",
       "      <td>159.000000</td>\n",
       "      <td>159.000000</td>\n",
       "    </tr>\n",
       "    <tr>\n",
       "      <th>mean</th>\n",
       "      <td>2488.553459</td>\n",
       "      <td>200.205414</td>\n",
       "    </tr>\n",
       "    <tr>\n",
       "      <th>std</th>\n",
       "      <td>5172.879194</td>\n",
       "      <td>385.643998</td>\n",
       "    </tr>\n",
       "    <tr>\n",
       "      <th>min</th>\n",
       "      <td>36.000000</td>\n",
       "      <td>8.075465</td>\n",
       "    </tr>\n",
       "    <tr>\n",
       "      <th>25%</th>\n",
       "      <td>480.500000</td>\n",
       "      <td>31.864047</td>\n",
       "    </tr>\n",
       "    <tr>\n",
       "      <th>50%</th>\n",
       "      <td>915.000000</td>\n",
       "      <td>68.882796</td>\n",
       "    </tr>\n",
       "    <tr>\n",
       "      <th>75%</th>\n",
       "      <td>2219.000000</td>\n",
       "      <td>153.814378</td>\n",
       "    </tr>\n",
       "    <tr>\n",
       "      <th>max</th>\n",
       "      <td>36793.000000</td>\n",
       "      <td>2295.151888</td>\n",
       "    </tr>\n",
       "  </tbody>\n",
       "</table>\n",
       "</div>"
      ],
      "text/plain": [
       "              cases  Pop. Density\n",
       "count    159.000000    159.000000\n",
       "mean    2488.553459    200.205414\n",
       "std     5172.879194    385.643998\n",
       "min       36.000000      8.075465\n",
       "25%      480.500000     31.864047\n",
       "50%      915.000000     68.882796\n",
       "75%     2219.000000    153.814378\n",
       "max    36793.000000   2295.151888"
      ]
     },
     "execution_count": 7,
     "metadata": {},
     "output_type": "execute_result"
    }
   ],
   "source": [
    "df.describe()"
   ]
  },
  {
   "cell_type": "markdown",
   "metadata": {},
   "source": [
    "Set y to be the cases in each county and the x to be the population density"
   ]
  },
  {
   "cell_type": "code",
   "execution_count": 8,
   "metadata": {},
   "outputs": [],
   "source": [
    "y = df[\"cases\"].values\n",
    "x = np.array(df[\"Pop. Density\"].values).reshape((-1,1))"
   ]
  },
  {
   "cell_type": "markdown",
   "metadata": {
    "pycharm": {
     "name": "#%% md\n"
    }
   },
   "source": [
    "Use sklearn's `Linear Regression` estimator to get a best-fit line for the graph and graph it"
   ]
  },
  {
   "cell_type": "code",
   "execution_count": 9,
   "metadata": {
    "pycharm": {
     "name": "#%%\n"
    }
   },
   "outputs": [
    {
     "data": {
      "text/plain": [
       "Text(0.5, 1.0, 'Cases vs Population Density')"
      ]
     },
     "execution_count": 9,
     "metadata": {},
     "output_type": "execute_result"
    },
    {
     "data": {
      "image/png": "[encoded data removed]",
      "text/plain": [
       "<Figure size 432x288 with 1 Axes>"
      ]
     },
     "metadata": {},
     "output_type": "display_data"
    }
   ],
   "source": [
    "model = LinearRegression().fit(x,y)\n",
    "plt.scatter(x,y, color=\"blue\")\n",
    "plt.plot(x,model.predict(x),color=\"red\",linewidth=3)\n",
    "plt.xlabel(\"Population Density\")\n",
    "plt.ylabel(\"Cases\")\n",
    "plt.title(\"Cases vs Population Density\")"
   ]
  },
  {
   "cell_type": "markdown",
   "source": [
    "Since there are a few counties which have a higher population density, we make another graph that limit the max value of x to get a closer look at the fit-line near the x-axis. This does not mess up our data as we are only limiting the max value that x can take. To increase the decrease or increae the x-range, one can change the `plt.xlim()` numbers. One can do the same to the `plt.ylim()` numbers"
   ],
   "metadata": {
    "collapsed": false
   }
  },
  {
   "cell_type": "code",
   "execution_count": null,
   "outputs": [],
   "source": [
    "plt.xlim(-20,400)\n",
    "plt.ylim(-500,10000)\n",
    "plt.scatter(x,y, color=\"blue\")\n",
    "plt.plot(x,model.predict(x),color=\"red\",linewidth=3)\n",
    "plt.xlabel(\"Population Density\")\n",
    "plt.ylabel(\"Cases\")\n",
    "plt.title(\"Cases vs Population Density\")"
   ],
   "metadata": {
    "collapsed": false,
    "pycharm": {
     "name": "#%%\n"
    }
   }
  },
  {
   "cell_type": "markdown",
   "source": [
    "Get the $R^{2}$ value,the coefficient of determination, to judge the adequacy of a regression mode (the higher the better). We also get the Intercept, $b_{0}$, and the coefficient, $b_{1}$"
   ],
   "metadata": {
    "collapsed": false
   }
  },
  {
   "cell_type": "code",
   "execution_count": null,
   "outputs": [],
   "source": [
    "r_sq = model.score(x,y)\n",
    "print(\"Coefficient of Determination: \",r_sq)\n",
    "print(\"Intercept: \", model.intercept_)\n",
    "print(\"Slope: \", model.coef_)"
   ],
   "metadata": {
    "collapsed": false,
    "pycharm": {
     "name": "#%%\n"
    }
   }
  },
  {
   "cell_type": "markdown",
   "metadata": {},
   "source": [
    "r_sq = model.score(x,y)\n",
    "print(\"Coefficient of Determination: \",r_sq)\n",
    "print(\"Intercept: \", model.intercept_)\n",
    "print(\"Slope: \", model.coef_)"
   ]
  },
  {
   "cell_type": "code",
   "execution_count": 10,
   "metadata": {},
   "outputs": [
    {
     "data": {
      "text/plain": [
       "Text(0.5, 1.0, 'Cases vs Population Density')"
      ]
     },
     "execution_count": 10,
     "metadata": {},
     "output_type": "execute_result"
    },
    {
     "data": {
      "image/png": "[encoded data removed]",
      "text/plain": [
       "<Figure size 432x288 with 1 Axes>"
      ]
     },
     "metadata": {},
     "output_type": "display_data"
    }
   ],
   "source": [
    "plt.xlim(-20,400)\n",
    "plt.ylim(-500,10000)\n",
    "plt.scatter(x,y, color=\"blue\")\n",
    "plt.plot(x,model.predict(x),color=\"red\",linewidth=3)\n",
    "plt.xlabel(\"Population Density\")\n",
    "plt.ylabel(\"Cases\")\n",
    "plt.title(\"Cases vs Population Density\")"
   ]
  },
  {
   "cell_type": "markdown",
   "metadata": {},
   "source": [
    "Get the $R^{2}$ value,the coefficient of determination, to judge the adequacy of a regression mode (the higher the better). We also get the Intercept, $b_{0}$, and the coefficient, $b_{1}$"
   ]
  },
  {
   "cell_type": "code",
   "execution_count": 11,
   "metadata": {},
   "outputs": [
    {
     "name": "stdout",
     "output_type": "stream",
     "text": [
      "Coefficient of Determination:  0.7804090603966796\n",
      "Intercept:  116.18179425255812\n",
      "Slope:  [11.84968787]\n"
     ]
    }
   ],
   "source": [
    "r_sq = model.score(x,y)\n",
    "print(\"Coefficient of Determination: \",r_sq)\n",
    "print(\"Intercept: \", model.intercept_)\n",
    "print(\"Slope: \", model.coef_)"
   ]
  }
 ],
 "metadata": {
  "kernelspec": {
   "display_name": "Python 3",
   "language": "python",
   "name": "python3"
  },
  "language_info": {
   "codemirror_mode": {
    "name": "ipython",
    "version": 3
   },
   "file_extension": ".py",
   "mimetype": "text/x-python",
   "name": "python",
   "nbconvert_exporter": "python",
   "pygments_lexer": "ipython3",
   "version": "3.8.4"
  }
 },
 "nbformat": 4,
 "nbformat_minor": 4
}